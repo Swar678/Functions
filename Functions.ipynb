{
  "nbformat": 4,
  "nbformat_minor": 0,
  "metadata": {
    "colab": {
      "provenance": []
    },
    "kernelspec": {
      "name": "python3",
      "display_name": "Python 3"
    },
    "language_info": {
      "name": "python"
    }
  },
  "cells": [
    {
      "cell_type": "markdown",
      "source": [
        "# **Theory Questions**"
      ],
      "metadata": {
        "id": "_p2weSsR0sBw"
      }
    },
    {
      "cell_type": "markdown",
      "source": [
        "1. What is the difference between a function and a method in Python?\n",
        " - A function is block of code that we define yourself to do a specific task, usually to avoid repeating code.\n",
        " - It is created using the \"def\" keyword.\n",
        " - It is independent and not tied to any object or class. We can call them by their name from anywhere in our code.\n",
        " - For Example:\n",
        "        \n",
        "           def square(x):\n",
        "               return x**2\n",
        "          square_number = square(5)\n",
        "          print(square_number)\n",
        "          # Output\n",
        "          25\n",
        " - A method is like a function, but it belongs to an object or class.\n",
        " - We define it inside a class, and it usually works with the data inside that object or class.\n",
        " - Methods are called on an object or a class, and they usually take self as their first argument (which refers to the current object).\n",
        " - For Example:\n",
        "           \n",
        "           class BankAccount:\n",
        "               def __init__(self, account_holder, current_balance):\n",
        "                   self.account_holder = account_holder\n",
        "                   self.current_balance = current_balance\n",
        "\n",
        "               def deposit(self, amount):\n",
        "                   self.current_balance += amount\n",
        "\n",
        "               def withdraw(self, amount):\n",
        "                   if self.current_balance > amount:\n",
        "                       self.current_balance -= amount\n",
        "                   else:\n",
        "                       print(\"Insufficient funds\")\n",
        "\n",
        "               def check_balance(self):\n",
        "                   return self.current_balance\n",
        "\n",
        "               def transfer(self, other_account, amount):\n",
        "                   if self.current_balance > amount:\n",
        "                       other_account += amount\n",
        "                   else:\n",
        "                       print(\"Insuffient funds\")\n",
        "\n",
        "          act_holder1 = BankAccount(\"Swar\", 50000)\n",
        "          act_holder2 = BankAccount(\"Guriya\", 30000)\n",
        "\n",
        "          print(f\"{act_holder1.account_holder} has {act_holder1.current_balance}\")\n",
        "          print(f\"{act_holder2.account_holder} has {act_holder2.current_balance}\")\n",
        "          # Output\n",
        "          Swar has 50000\n",
        "          Guriya has 30000"
      ],
      "metadata": {
        "id": "V1_z523X00ZP"
      }
    },
    {
      "cell_type": "markdown",
      "source": [
        "2.  Explain the concept of function arguments and parameters in Python.\n",
        "  - Function arguments: These are the actual values which we give to the function when we call it. The arguments match the parameters and fill in the placeholders.\n",
        "  - Function parameters: These are like placeholders in the function definition. They are the names that go inside the parentheses when we define a function. They show what kind of values the function is expecting.\n",
        "  - For example:\n",
        "                 def multiply(a, b):\n",
        "                     return a*b\n",
        "                 result = multiply(5, 6)\n",
        "  - In the above example: 5, 6 is functions arguments that is passed to the function and a, b is function parameters.\n",
        "\n",
        "\n",
        "  3. What are the different ways to define and call a function in Python?\n",
        "  \n",
        "    - There are many ways to define and call a function in python:\n",
        "    - 1. Standard Function Definition: This is the most basic way to define and call a function. We just need to write the function with its name and parameters, and then call it using its name.\n",
        "    - For example:\n",
        "              # Defining Function\n",
        "              def welcome_member(name):\n",
        "                  return f\"Welcome {name}!\"\n",
        "              # Function Calling\n",
        "              welcome_message = welcome_member(\"Swar\")\n",
        "              print(welcome_message)\n",
        "              # Output\n",
        "              Welcome Swar!\n",
        "                \n",
        "    - 2. Lambda Functions: It is called anonymous function. It is a short function that we define without a name. It's useful for quick operations.\n",
        "    - For example:\n",
        "\n",
        "              multiply_numbers = lambda x: x*x\n",
        "              print(adding_numbers(5))\n",
        "              # Output\n",
        "              25\n",
        "\n",
        "    - 3. Functions with Default Parameters: We can give a default value to the parameter. If no value is passed when calling the function, it will use the default parameter.\n",
        "    - For example:\n",
        "                 \n",
        "              # Defining Function\n",
        "              def welcome_member(name=\"Guest\"):\n",
        "                  return f\"Welcome {name}!\"\n",
        "              # Function Calling\n",
        "              welcome_message = welcome_member()\n",
        "              print(welcome_message)\n",
        "              # Output\n",
        "              Welcome Guest!\n",
        "\n",
        "    - 4. Functions with variable-Length Argumnets: Sometimes, we don't know how many arguments will be passed. In that case, we can use *args for a variable number of arguments.\n",
        "    - For example:\n",
        "               \n",
        "               # Defining Function\n",
        "              def welcome_member(*name):\n",
        "                  return f\"Welcome {name}!\"\n",
        "              # Function Calling\n",
        "              welcome_message = welcome_member(\"Swar\", \"Eliza\", \"Rais\")\n",
        "              print(welcome_message)\n",
        "              # Output\n",
        "              Welcome 'Swar', 'Eliza', 'Rais'!\n",
        "\n",
        "    - 5. Functions with Keyword Arguments: When we don't know how many arguments will be passed. In that case, we can use **kwargs for keyword arguments.\n",
        "    - For example:\n",
        "              \n",
        "              # Defining Function\n",
        "              def member_details(**basic_details):\n",
        "                  for key, value in basic_details.items():\n",
        "                  print(f\"{key}: {value}!\")\n",
        "              # Function Calling\n",
        "              member_details(name=\"Swar\", age=26)\n",
        "              # Output\n",
        "              name: Swar!\n",
        "              age: 26!\n",
        "               \n",
        "    - 6. Nested Functions: We can define a function inside another function. The inner function can only be used inside the outer function.\n",
        "    - For example:\n",
        "                \n",
        "              # Defining Function\n",
        "              def outer_function(name):\n",
        "                  def inner_function():\n",
        "                      return f\"Hello {name}!\"\n",
        "                  return inner_function()\n",
        "              # Function Calling\n",
        "              outer_function(\"Swar\")\n",
        "              # Output\n",
        "              'Hello Swar!'\n",
        "    - 7. Functions with Docstrings: We can add a description of the function using docstrings. This helps to explain what the function does.\n",
        "    - For example:\n",
        "\n",
        "                # Defining Function\n",
        "                def outer_function(name):\n",
        "                    \"This function explains the example of nested fucntion.\"\n",
        "                    def inner_function():\n",
        "                         return f\"Hello {name}!\"\n",
        "                    return inner_function()\n",
        "                # Function Calling\n",
        "                outer_function(\"Swar\")\n",
        "                # Output\n",
        "                'Hello Swar!\n",
        "\n",
        "    - 8. Functions with Multiple Return Values: We can return more than one value from a function.\n",
        "    - For example:\n",
        "\n",
        "                 # Defining Function\n",
        "                def add_subtract(a, b):\n",
        "                    return a+b, a-b                  \n",
        "                # Function Calling\n",
        "                add_subtract(5, 5)\n",
        "                # Output\n",
        "                (10, 0)"
      ],
      "metadata": {
        "id": "c5ZOxrbT6-a9"
      }
    },
    {
      "cell_type": "markdown",
      "source": [
        "4. What is the purpose of the 'return' statement in a Python function?\n",
        "    - The 'return' statement in a Python function is used to give a result from a function back to the place where we called the function.\n",
        "    - If we dont put the 'return' statement, the function doesn't give anything back, and the result would be None by default.\n",
        "    - For example: In below example the 'return' statement returns the multiplication of a and b.\n",
        "                 def multiply(a, b):\n",
        "                     return a*b\n",
        "                 result = multiply(5, 6)\n",
        "\n",
        "5. What are iterators in Python and how do they differ from iterables?\n",
        "    - An iterator in Python is an object that allows us to iterate over a collection of data, like a list, tuple, or dictionary.\n",
        "    - The main point about an iterator is that it remembers its current position and can return the next item in the collection one by one when asked.\n",
        "    - Basically, iterator is the tool that helps to access each piece of data one by one.\n",
        "    - For example: In below example iterator is which we created using iter() function.\n",
        "                 shopping_list = [\"Book\", \"Clothes\", \"Food\", \"Shoes\"]\n",
        "                 iterator = iter(shopping_list)\n",
        "\n",
        "                 print(next(iterator))\n",
        "                 print(next(iterator))\n",
        "                 # Output\n",
        "                 Book\n",
        "                 Clothes\n",
        "    \n",
        "    - An iterable is any object that can be used to create an iterator. Basically, it's a collection of items that we can loop through like lists, tuples, dictionaries, etc.\n",
        "    - Iterables are the things we can loop over and they can be turned into iterators using the iter() function.\n",
        "    - We can think of an iterable as a container that holds the data.\n",
        "    - In above example 'shopping_list' inside iter() function is iterable as it is list.\n",
        "\n",
        "6. Explain the concept of generators in Python and how they are defined.\n",
        "   - Generators in Python are like special functions that gives one value at a time, instead of returning everything at once.\n",
        "   - It uses the yield keyword instead of return to send back a value.\n",
        "   - For example: As we go next, next it will go on giving the output and it pauses every time it gives a value.\n",
        "                 def count_the_numbers(n):\n",
        "                     count = 1\n",
        "                     while count<=n:\n",
        "                         yield count\n",
        "                         count += 1\n",
        "\n",
        "                 print(next(iterator))\n",
        "                 print(next(iterator))\n",
        "                 # Output\n",
        "                 1\n",
        "                 2\n",
        "\n",
        "7.  What are the advantages of using generators over regular functions?\n",
        "    - It has following advantages:\n",
        "    - Memory Efficiency: Generators don't store all values at once, it generates the value one by one when asked while regular function gives all value at once.\n",
        "    - Useful for Large Datasets: Generators is suitable when dealing with huge amounts of data.\n",
        "    - Improved Performance: Generators compute values only when needed, making them faster for some tasks while regular functions have to process all items at once, which can slow down the program if we only need a small portion of the data.\n",
        "    - Infinite Sequences: A generator could yield an infinite sequence of numbers without ever running out of memory because it generates one number at a time when needed.\n",
        "    - State Preservation: When a generator function gives a value, it 'pauses' and preserves its state. The next time when we call next() on the generator, it resumes where it left off. This is not something regular functions can do.\n",
        "\n",
        "8. What is a lambda function in Python and when is it typically used?\n",
        "   - A lambda function is a anonymous or unnamed function that is defined using the 'lambda' keyword.\n",
        "   - It's a way to create a function in a single line.\n",
        "   - It is typically used for simple tasks where we dont need to complicate it by writing in the regular function. It is used in scenarios like mapping, filtering, or sorting data.\n",
        "   - For example: adding two numbers.\n",
        "             add = lambda x, y: x+y\n",
        "              print(add(5, 5))\n",
        "              # Output\n",
        "              10\n",
        "\n",
        "9. Explain the purpose and usage of the 'map()' function in Python.\n",
        "  - The purpose of the map() function is to apply a given function to every item in an iterable like a list or tuple and returns a map object that can be converted to a list, tuple, or other collections.\n",
        "  - It allows to process all items in an iterable without having to use a loop, making the code more concise and readable.\n",
        "  - We can use map() with both regular functions and lambda functions.\n",
        "  - We use it when we want a cleaner and more readable alternative to using for loops for simple transformations.\n",
        "  - For example: To square each number.\n",
        "               my_list = [1,2,3,4,5]\n",
        "               result = map(lambda x: x**2, my_list)\n",
        "               print(list(result))\n",
        "               # Output\n",
        "               [1, 4, 9, 16, 25]\n",
        "\n",
        "10. What is the difference between 'map()', 'reduce()', and 'filter()' functions in Python?\n",
        " - The map(), reduce(), and filter() are all functions used for functional programming. They apply a function to an iterable in different ways.\n",
        " - map():\n",
        " - Purpose: It applies a given function to each item in an iterable and returns a new iterable with the results.\n",
        " - Usage: When we want to transform or modify each element in an iterable.\n",
        " - Output: it returns a map object which can be converted to a list, tuple, etc.\n",
        " - For example:\n",
        "               my_list = [1,2,3,4,5]\n",
        "               result = map(lambda x: x**2, my_list)\n",
        "               print(list(result))\n",
        "               # Output\n",
        "               [1, 4, 9, 16, 25]\n",
        " - reduce():\n",
        " - Purpose: It applies a given function cumulatively to the items in an iterable, reducing the iterable to a single value, e.g., sum, product.\n",
        " - Usage: When we want to combine or aggregate elements of an iterable into a single result.\n",
        " - Output: A single value, e.g., sum, product.\n",
        " - For example:\n",
        "               from functools import reduce\n",
        "               my_list = [1,2,3,4,5]\n",
        "               result = reduce(lambda x, y: x*y, my_list)\n",
        "               print(result)\n",
        "               # Output\n",
        "               120\n",
        " - filter():\n",
        " - Purpose: It applies a given function to each item in an iterable and filters out the items for which the function returns False.\n",
        " - Usage: When we want to filter out elements based on a condition, for e.g., keep only even numbers.\n",
        " - Output: A filtered iterable containing only the elements that satisfy the condition that is 'True'.\n",
        " - For example:\n",
        "               my_list = [1,2,3,4,5]\n",
        "               result = filter(lambda x: x%2 == 0, my_list)\n",
        "               print(list(result))\n",
        "               # Output\n",
        "               [2, 4]\n",
        "\n",
        "11. Using pen & Paper write the internal mechanism for sum operation using  reduce function on this given list:[47,11,42,13].\n",
        "               given_list = [47,11,42,13]\n",
        "               sum_operation = reduce(lambda x, y: x+y, given_list)\n",
        "               print(sum_operation)\n",
        "               # Output\n",
        "               113\n",
        "\n",
        "\n"
      ],
      "metadata": {
        "id": "iPmy47RhVvJu"
      }
    },
    {
      "cell_type": "code",
      "source": [
        "from google.colab import files\n",
        "uploaded = files.upload()"
      ],
      "metadata": {
        "colab": {
          "base_uri": "https://localhost:8080/",
          "height": 74
        },
        "id": "-P6l-6OOMQUV",
        "outputId": "b4059a4c-a86d-4b80-c820-459c1a400297"
      },
      "execution_count": null,
      "outputs": [
        {
          "output_type": "display_data",
          "data": {
            "text/plain": [
              "<IPython.core.display.HTML object>"
            ],
            "text/html": [
              "\n",
              "     <input type=\"file\" id=\"files-0040cdfe-c8bd-450d-ad65-5402c2c061d9\" name=\"files[]\" multiple disabled\n",
              "        style=\"border:none\" />\n",
              "     <output id=\"result-0040cdfe-c8bd-450d-ad65-5402c2c061d9\">\n",
              "      Upload widget is only available when the cell has been executed in the\n",
              "      current browser session. Please rerun this cell to enable.\n",
              "      </output>\n",
              "      <script>// Copyright 2017 Google LLC\n",
              "//\n",
              "// Licensed under the Apache License, Version 2.0 (the \"License\");\n",
              "// you may not use this file except in compliance with the License.\n",
              "// You may obtain a copy of the License at\n",
              "//\n",
              "//      http://www.apache.org/licenses/LICENSE-2.0\n",
              "//\n",
              "// Unless required by applicable law or agreed to in writing, software\n",
              "// distributed under the License is distributed on an \"AS IS\" BASIS,\n",
              "// WITHOUT WARRANTIES OR CONDITIONS OF ANY KIND, either express or implied.\n",
              "// See the License for the specific language governing permissions and\n",
              "// limitations under the License.\n",
              "\n",
              "/**\n",
              " * @fileoverview Helpers for google.colab Python module.\n",
              " */\n",
              "(function(scope) {\n",
              "function span(text, styleAttributes = {}) {\n",
              "  const element = document.createElement('span');\n",
              "  element.textContent = text;\n",
              "  for (const key of Object.keys(styleAttributes)) {\n",
              "    element.style[key] = styleAttributes[key];\n",
              "  }\n",
              "  return element;\n",
              "}\n",
              "\n",
              "// Max number of bytes which will be uploaded at a time.\n",
              "const MAX_PAYLOAD_SIZE = 100 * 1024;\n",
              "\n",
              "function _uploadFiles(inputId, outputId) {\n",
              "  const steps = uploadFilesStep(inputId, outputId);\n",
              "  const outputElement = document.getElementById(outputId);\n",
              "  // Cache steps on the outputElement to make it available for the next call\n",
              "  // to uploadFilesContinue from Python.\n",
              "  outputElement.steps = steps;\n",
              "\n",
              "  return _uploadFilesContinue(outputId);\n",
              "}\n",
              "\n",
              "// This is roughly an async generator (not supported in the browser yet),\n",
              "// where there are multiple asynchronous steps and the Python side is going\n",
              "// to poll for completion of each step.\n",
              "// This uses a Promise to block the python side on completion of each step,\n",
              "// then passes the result of the previous step as the input to the next step.\n",
              "function _uploadFilesContinue(outputId) {\n",
              "  const outputElement = document.getElementById(outputId);\n",
              "  const steps = outputElement.steps;\n",
              "\n",
              "  const next = steps.next(outputElement.lastPromiseValue);\n",
              "  return Promise.resolve(next.value.promise).then((value) => {\n",
              "    // Cache the last promise value to make it available to the next\n",
              "    // step of the generator.\n",
              "    outputElement.lastPromiseValue = value;\n",
              "    return next.value.response;\n",
              "  });\n",
              "}\n",
              "\n",
              "/**\n",
              " * Generator function which is called between each async step of the upload\n",
              " * process.\n",
              " * @param {string} inputId Element ID of the input file picker element.\n",
              " * @param {string} outputId Element ID of the output display.\n",
              " * @return {!Iterable<!Object>} Iterable of next steps.\n",
              " */\n",
              "function* uploadFilesStep(inputId, outputId) {\n",
              "  const inputElement = document.getElementById(inputId);\n",
              "  inputElement.disabled = false;\n",
              "\n",
              "  const outputElement = document.getElementById(outputId);\n",
              "  outputElement.innerHTML = '';\n",
              "\n",
              "  const pickedPromise = new Promise((resolve) => {\n",
              "    inputElement.addEventListener('change', (e) => {\n",
              "      resolve(e.target.files);\n",
              "    });\n",
              "  });\n",
              "\n",
              "  const cancel = document.createElement('button');\n",
              "  inputElement.parentElement.appendChild(cancel);\n",
              "  cancel.textContent = 'Cancel upload';\n",
              "  const cancelPromise = new Promise((resolve) => {\n",
              "    cancel.onclick = () => {\n",
              "      resolve(null);\n",
              "    };\n",
              "  });\n",
              "\n",
              "  // Wait for the user to pick the files.\n",
              "  const files = yield {\n",
              "    promise: Promise.race([pickedPromise, cancelPromise]),\n",
              "    response: {\n",
              "      action: 'starting',\n",
              "    }\n",
              "  };\n",
              "\n",
              "  cancel.remove();\n",
              "\n",
              "  // Disable the input element since further picks are not allowed.\n",
              "  inputElement.disabled = true;\n",
              "\n",
              "  if (!files) {\n",
              "    return {\n",
              "      response: {\n",
              "        action: 'complete',\n",
              "      }\n",
              "    };\n",
              "  }\n",
              "\n",
              "  for (const file of files) {\n",
              "    const li = document.createElement('li');\n",
              "    li.append(span(file.name, {fontWeight: 'bold'}));\n",
              "    li.append(span(\n",
              "        `(${file.type || 'n/a'}) - ${file.size} bytes, ` +\n",
              "        `last modified: ${\n",
              "            file.lastModifiedDate ? file.lastModifiedDate.toLocaleDateString() :\n",
              "                                    'n/a'} - `));\n",
              "    const percent = span('0% done');\n",
              "    li.appendChild(percent);\n",
              "\n",
              "    outputElement.appendChild(li);\n",
              "\n",
              "    const fileDataPromise = new Promise((resolve) => {\n",
              "      const reader = new FileReader();\n",
              "      reader.onload = (e) => {\n",
              "        resolve(e.target.result);\n",
              "      };\n",
              "      reader.readAsArrayBuffer(file);\n",
              "    });\n",
              "    // Wait for the data to be ready.\n",
              "    let fileData = yield {\n",
              "      promise: fileDataPromise,\n",
              "      response: {\n",
              "        action: 'continue',\n",
              "      }\n",
              "    };\n",
              "\n",
              "    // Use a chunked sending to avoid message size limits. See b/62115660.\n",
              "    let position = 0;\n",
              "    do {\n",
              "      const length = Math.min(fileData.byteLength - position, MAX_PAYLOAD_SIZE);\n",
              "      const chunk = new Uint8Array(fileData, position, length);\n",
              "      position += length;\n",
              "\n",
              "      const base64 = btoa(String.fromCharCode.apply(null, chunk));\n",
              "      yield {\n",
              "        response: {\n",
              "          action: 'append',\n",
              "          file: file.name,\n",
              "          data: base64,\n",
              "        },\n",
              "      };\n",
              "\n",
              "      let percentDone = fileData.byteLength === 0 ?\n",
              "          100 :\n",
              "          Math.round((position / fileData.byteLength) * 100);\n",
              "      percent.textContent = `${percentDone}% done`;\n",
              "\n",
              "    } while (position < fileData.byteLength);\n",
              "  }\n",
              "\n",
              "  // All done.\n",
              "  yield {\n",
              "    response: {\n",
              "      action: 'complete',\n",
              "    }\n",
              "  };\n",
              "}\n",
              "\n",
              "scope.google = scope.google || {};\n",
              "scope.google.colab = scope.google.colab || {};\n",
              "scope.google.colab._files = {\n",
              "  _uploadFiles,\n",
              "  _uploadFilesContinue,\n",
              "};\n",
              "})(self);\n",
              "</script> "
            ]
          },
          "metadata": {}
        },
        {
          "output_type": "stream",
          "name": "stdout",
          "text": [
            "Saving Functions_11Question_Answer.pdf to Functions_11Question_Answer.pdf\n"
          ]
        }
      ]
    },
    {
      "cell_type": "markdown",
      "source": [
        "# **Practical Questions**"
      ],
      "metadata": {
        "id": "YKihtPnUWxPL"
      }
    },
    {
      "cell_type": "code",
      "source": [
        "# 1. Write a Python function that takes a list of numbers as input and returns the sum of all even numbers in the list.\n",
        "user_input = input(\"Please enter the list of numbers (seperate it by space): \")\n",
        "\n",
        "user_input = [int(x) for x in user_input.split()]\n",
        "\n",
        "def sum_of_even_numbers(x):\n",
        "    sum_even = 0\n",
        "    for i in x:\n",
        "        if i % 2 == 0:\n",
        "            sum_even += i\n",
        "    return sum_even\n",
        "\n",
        "sum_total = sum_of_even_numbers(user_input)\n",
        "print(f\"Sum of all even numbers in the list is {sum_total}\")"
      ],
      "metadata": {
        "colab": {
          "base_uri": "https://localhost:8080/"
        },
        "id": "rR1ESTyAW2se",
        "outputId": "4224028c-6d59-49ad-ce24-7efbd060a180"
      },
      "execution_count": null,
      "outputs": [
        {
          "output_type": "stream",
          "name": "stdout",
          "text": [
            "Please enter the list of numbers (seperate it by space): 5 6 7 8\n",
            "Sum of all even numbers in the list is 14\n"
          ]
        }
      ]
    },
    {
      "cell_type": "code",
      "source": [
        "# 2. Create a Python function that accepts a string and returns the reverse of that string.\n",
        "def reverse_string(input_string):\n",
        "    return input_string[::-1]\n",
        "reverse_string(\"Book\")"
      ],
      "metadata": {
        "colab": {
          "base_uri": "https://localhost:8080/",
          "height": 36
        },
        "id": "IjCC4XZXQIOg",
        "outputId": "44875154-ca91-45cb-a612-a8c874ca6e2c"
      },
      "execution_count": null,
      "outputs": [
        {
          "output_type": "execute_result",
          "data": {
            "text/plain": [
              "'kooB'"
            ],
            "application/vnd.google.colaboratory.intrinsic+json": {
              "type": "string"
            }
          },
          "metadata": {},
          "execution_count": 10
        }
      ]
    },
    {
      "cell_type": "code",
      "source": [
        "# 3. Implement a Python function that takes a list of integers and returns a new list containing the squares of each number.\n",
        "def squares(x):\n",
        "    return [i**2 for i in x]\n",
        "squares([1,2,3,4,5])"
      ],
      "metadata": {
        "colab": {
          "base_uri": "https://localhost:8080/"
        },
        "id": "RZ1Qewk3V9-S",
        "outputId": "b30fc127-5011-4e13-c2f7-baa120d67287"
      },
      "execution_count": null,
      "outputs": [
        {
          "output_type": "execute_result",
          "data": {
            "text/plain": [
              "[1, 4, 9, 16, 25]"
            ]
          },
          "metadata": {},
          "execution_count": 12
        }
      ]
    },
    {
      "cell_type": "code",
      "source": [
        "# 4. Write a Python function that checks if a given number is prime or not from 1 to 200.\n",
        "def prime_number_check(x):\n",
        "    if x <1:\n",
        "       return False\n",
        "    for i in range(2, x):\n",
        "        if x % i ==0:\n",
        "           return False\n",
        "    return True\n",
        "\n",
        "for num in range(1, 201):\n",
        "    if prime_number_check(num):\n",
        "       print(num, end=\" \" )"
      ],
      "metadata": {
        "colab": {
          "base_uri": "https://localhost:8080/"
        },
        "id": "RPoX6T0XXb1e",
        "outputId": "0d75b12b-d14d-4088-9588-27a692282771"
      },
      "execution_count": null,
      "outputs": [
        {
          "output_type": "stream",
          "name": "stdout",
          "text": [
            "1 2 3 5 7 11 13 17 19 23 29 31 37 41 43 47 53 59 61 67 71 73 79 83 89 97 101 103 107 109 113 127 131 137 139 149 151 157 163 167 173 179 181 191 193 197 199 "
          ]
        }
      ]
    },
    {
      "cell_type": "code",
      "source": [
        "# 5. Create an iterator class in Python that generates the Fibonacci sequence up to a specified number of terms.\n",
        "class Fibonacci_sequence:\n",
        "    def __init__(self, n):\n",
        "        self.n = n\n",
        "        self.count = 0\n",
        "        self.a, self.b = 0, 1\n",
        "\n",
        "    def __iter__(self):\n",
        "        return self\n",
        "\n",
        "    def __next__(self):\n",
        "        if self.count < self.n:\n",
        "            result = self.a\n",
        "            self.a, self.b = self.b, self.a + self.b\n",
        "            self.count += 1\n",
        "            return result\n",
        "        else:\n",
        "            raise StopIteration\n",
        "\n",
        "n_terms = 10\n",
        "fib_iterator = Fibonacci_sequence(n_terms)\n",
        "for num in fib_iterator:\n",
        "    print(num, end= \" \")"
      ],
      "metadata": {
        "colab": {
          "base_uri": "https://localhost:8080/"
        },
        "id": "q62EkKTggMm6",
        "outputId": "15410ba5-2b06-4862-f4f0-19a13df63ed2"
      },
      "execution_count": null,
      "outputs": [
        {
          "output_type": "stream",
          "name": "stdout",
          "text": [
            "0 1 1 2 3 5 8 13 21 34 "
          ]
        }
      ]
    },
    {
      "cell_type": "code",
      "source": [
        "# 6. Write a generator function in Python that yields the powers of 2 up to a given exponent.\n",
        "def power_of_two(n):\n",
        "    for i in range(n+1):\n",
        "        yield 2**i\n",
        "\n",
        "for i in power_of_two(10):\n",
        "    print(i, end=\" \")"
      ],
      "metadata": {
        "colab": {
          "base_uri": "https://localhost:8080/"
        },
        "id": "E58FRILAgbrS",
        "outputId": "56d432ea-125d-4534-c01b-82712d88196c"
      },
      "execution_count": null,
      "outputs": [
        {
          "output_type": "stream",
          "name": "stdout",
          "text": [
            "1 2 4 8 16 32 64 128 256 512 1024 "
          ]
        }
      ]
    },
    {
      "cell_type": "code",
      "source": [
        "# 7. Implement a generator function that reads a file line by line and yields each line as a string.\n",
        "def read_file(n):\n",
        "    try:\n",
        "        with open(n, 'r') as file:\n",
        "            for line in file:\n",
        "                yield line.strip()\n",
        "    except FileNotFoundError:\n",
        "        print(f\"Error: File '{n}' not found.\")\n",
        "        yield None\n",
        "\n",
        "file_path = \"C:\\\\Users\\\\swars\\\\Downloads\\\\Functions_11Question_Answer.txt\"\n",
        "for line in read_file(file_path):\n",
        "    if line is not None:\n",
        "        print(line)"
      ],
      "metadata": {
        "colab": {
          "base_uri": "https://localhost:8080/"
        },
        "id": "m4cjNeZHjoRY",
        "outputId": "ad2deb5d-bbbd-4d0f-d557-2a26b5dd635a"
      },
      "execution_count": null,
      "outputs": [
        {
          "output_type": "stream",
          "name": "stdout",
          "text": [
            "Error: File 'C:\\Users\\swars\\Downloads\\Functions_11Question_Answer.txt' not found.\n"
          ]
        }
      ]
    },
    {
      "cell_type": "code",
      "source": [
        "# 8. Use a lambda function in Python to sort a list of tuples based on the second element of each tuple.\n",
        "tuple_list = [(5,10),(20,100),(90,60),(54,89),(42,67)]\n",
        "sort = sorted(tuple_list, key=lambda x: x[1])\n",
        "print(sort)"
      ],
      "metadata": {
        "colab": {
          "base_uri": "https://localhost:8080/"
        },
        "id": "oQGQMhR3iGF4",
        "outputId": "1243e9f8-1fbc-4916-dc47-a80a0343fe1e"
      },
      "execution_count": null,
      "outputs": [
        {
          "output_type": "stream",
          "name": "stdout",
          "text": [
            "[(5, 10), (90, 60), (42, 67), (54, 89), (20, 100)]\n"
          ]
        }
      ]
    },
    {
      "cell_type": "code",
      "source": [
        "# 9. Write a Python program that uses `map()` to convert a list of temperatures from Celsius to Fahrenheit.\n",
        "def celsius_to_fahrenheit(celsius):\n",
        "    return (celsius * 9/5) + 32\n",
        "celsius_temps = [0, 20, 25, 30, 100]\n",
        "\n",
        "fahrenheit_temps = list(map(celsius_to_fahrenheit, celsius_temps))\n",
        "print(fahrenheit_temps)"
      ],
      "metadata": {
        "colab": {
          "base_uri": "https://localhost:8080/"
        },
        "id": "H6PsrbsjkA7t",
        "outputId": "30d853f8-d93b-4f13-c135-86c3ddbee733"
      },
      "execution_count": null,
      "outputs": [
        {
          "output_type": "stream",
          "name": "stdout",
          "text": [
            "[32.0, 68.0, 77.0, 86.0, 212.0]\n"
          ]
        }
      ]
    },
    {
      "cell_type": "code",
      "source": [
        "# 10. Create a Python program that uses `filter()` to remove all the vowels from a given string.\n",
        "def remove_vowels(char):\n",
        "    vowels = \"aeiouAEIOU\"\n",
        "    return char not in vowels\n",
        "input_string = \"Swar Sudha\"\n",
        "\n",
        "filtered_string = ''.join(filter(remove_vowels, input_string))\n",
        "print(filtered_string)"
      ],
      "metadata": {
        "colab": {
          "base_uri": "https://localhost:8080/"
        },
        "id": "pSzUqKf2qcYc",
        "outputId": "f4b57657-e474-42a5-fddd-669652b214c2"
      },
      "execution_count": null,
      "outputs": [
        {
          "output_type": "stream",
          "name": "stdout",
          "text": [
            "Swr Sdh\n"
          ]
        }
      ]
    },
    {
      "cell_type": "code",
      "source": [
        "#11.\n",
        "'''\n",
        "Imagine an accounting routine used in a book shop. It works on a list with sublists,\n",
        "Write a Python program, which returns a list with 2-tuples. Each tuple consists of the order number and the\n",
        "product of the price per item and the quantity. The product should be increased by 10,- € if the value of the order is smaller than 100,00 €.\n",
        "Write a Python program using lambda and map.\n",
        "'''\n",
        "orders = [(34587, \"Learning Python, Mark Lutz\", 4, 40.95),\n",
        "    (98762, \"Programming Python, Mark Lutz\", 5, 56.80),\n",
        "    (77226, \"Head First Python, Paul Barry\", 3, 32.95),\n",
        "    (88112, \"Einführung in Python3, Bernd Klein\", 3, 24.99)]\n",
        "\n",
        "result = list(map(lambda order: (order[0], round(order[2] * order[3] + (10 if order[2] * order[3] < 100 else 0), 2)), orders))\n",
        "print(result)"
      ],
      "metadata": {
        "colab": {
          "base_uri": "https://localhost:8080/"
        },
        "id": "2Frh8IBdu-Yp",
        "outputId": "586f88f4-37c7-4be9-a913-68832078ad0b"
      },
      "execution_count": null,
      "outputs": [
        {
          "output_type": "stream",
          "name": "stdout",
          "text": [
            "[(34587, 163.8), (98762, 284.0), (77226, 108.85), (88112, 84.97)]\n"
          ]
        }
      ]
    }
  ]
}